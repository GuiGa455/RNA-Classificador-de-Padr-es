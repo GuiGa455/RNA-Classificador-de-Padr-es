{
 "cells": [
  {
   "cell_type": "code",
   "execution_count": null,
   "metadata": {},
   "outputs": [],
   "source": [
    "import pandas as pd\n",
    "import numpy as np\n",
    "from sklearn.datasets import load_iris\n",
    "\n",
    "from sklearn.neural_network import MLPClassifier\n",
    "from sklearn.metrics import plot_confusion_matrix\n",
    "from sklearn.decomposition import PCA\n",
    "import matplotlib.pyplot as plt\n",
    "\n",
    "\n",
    "data = load_iris()\n",
    "\n",
    "features =data.data\n",
    "target = data.target\n",
    "\n",
    "\n",
    "plt.figure(figsize=(16,8))\n",
    "plt.subplot(2,2,1)\n",
    "plt.scatter(features[:,0], features[:,1], c=target,marker='o',cmap='viridis')\n",
    "\n",
    "Classificador = MLPClassifier(hidden_layer_sizes = (20, 10), alpha=1, max_iter=1000)\n",
    "Classificador.fit(features,target)\n",
    "predicao = Classificador.predict(features)\n",
    "\n",
    "plt.subplot(2,2,3)\n",
    "plt.scatter(features[:,2], features[:,3], c=predicao,marker='d',cmap='viridis',s=150)\n",
    "plt.scatter(features[:,2], features[:,3], c=target,marker='o',cmap='viridis',s=15)\n",
    "\n",
    "\n",
    "plot_confusion_matrix(Classificador, features, target,include_values=True,display_labels=data.target_names)\n",
    "plt.show()"
   ]
  },
  {
   "cell_type": "code",
   "execution_count": null,
   "metadata": {},
   "outputs": [],
   "source": [
    "pca = PCA(n_components=2, whiten=True, svd_solver='randomized')\n",
    "pca = pca.fit(features)\n",
    "pca_features = pca.transform(features)\n",
    "print('Mantida %5.2f%% da informação do conjunto inicial de dados'%(sum(pca.explained_variance_ratio_)*100))\n",
    "\n",
    "plt.subplot(2,2,2)\n",
    "plt.scatter(pca_features[:,0], pca_features[:,1], c=target,marker='o',cmap='viridis')\n",
    "\n",
    "\n",
    "\n",
    "\n",
    "Classificador = MLPClassifier(hidden_layer_sizes = (15, 10), alpha=1, max_iter=1000)\n",
    "Classificador.fit(features,target)\n",
    "\n",
    "\n",
    "predicao = Classificador.predict(features)\n",
    "\n",
    "plt.subplot(2,2,4)\n",
    "plt.scatter(features[:,2], features[:,3], c=predicao,marker='d',cmap='viridis',s=150)\n",
    "plt.scatter(features[:,2], features[:,3], c=target,marker='o',cmap='viridis',s=15)\n",
    "plt.show()\n",
    "\n",
    "\n",
    "plot_confusion_matrix(Classificador, features, target,include_values=True,display_labels=data.target_names)\n",
    "plt.show()"
   ]
  },
  {
   "cell_type": "code",
   "execution_count": null,
   "metadata": {},
   "outputs": [],
   "source": [
    "Classificador = MLPClassifier(hidden_layer_sizes = (15, 10), alpha=1, max_iter=1000)\n",
    "Classificador.fit(features,target)\n",
    "predicao = Classificador.predict(features)\n",
    "\n",
    "plt.subplot(2,2,3)\n",
    "plt.scatter(features[:,2], features[:,3], c=predicao,marker='d',cmap='viridis',s=150)\n",
    "plt.scatter(features[:,2], features[:,3], c=target,marker='o',cmap='viridis',s=15)\n",
    "\n",
    "\n",
    "plot_confusion_matrix(Classificador, features, target,include_values=True,display_labels=data.target_names)"
   ]
  },
  {
   "cell_type": "code",
   "execution_count": null,
   "metadata": {},
   "outputs": [],
   "source": []
  }
 ],
 "metadata": {
  "language_info": {
   "name": "python"
  },
  "orig_nbformat": 4
 },
 "nbformat": 4,
 "nbformat_minor": 2
}
